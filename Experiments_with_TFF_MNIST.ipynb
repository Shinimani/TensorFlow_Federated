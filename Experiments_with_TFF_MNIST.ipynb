{
  "nbformat": 4,
  "nbformat_minor": 0,
  "metadata": {
    "colab": {
      "name": "Experiments with TFF MNIST.ipynb",
      "provenance": [],
      "authorship_tag": "ABX9TyPLS/0PwiucTYXr5ByFizVo",
      "include_colab_link": true
    },
    "kernelspec": {
      "name": "python3",
      "display_name": "Python 3"
    },
    "accelerator": "GPU"
  },
  "cells": [
    {
      "cell_type": "markdown",
      "metadata": {
        "id": "view-in-github",
        "colab_type": "text"
      },
      "source": [
        "<a href=\"https://colab.research.google.com/github/Shinimani/TensorFlow_Federated/blob/master/Experiments_with_TFF_MNIST.ipynb\" target=\"_parent\"><img src=\"https://colab.research.google.com/assets/colab-badge.svg\" alt=\"Open In Colab\"/></a>"
      ]
    },
    {
      "cell_type": "code",
      "metadata": {
        "id": "UBxq699E_hs-",
        "colab_type": "code",
        "outputId": "361276b2-022e-4e0c-a971-248b598f8d26",
        "colab": {
          "base_uri": "https://localhost:8080/",
          "height": 34
        }
      },
      "source": [
        "print(\"hello world\")"
      ],
      "execution_count": 0,
      "outputs": [
        {
          "output_type": "stream",
          "text": [
            "hello world\n"
          ],
          "name": "stdout"
        }
      ]
    },
    {
      "cell_type": "code",
      "metadata": {
        "id": "n_QsW-wr_mxd",
        "colab_type": "code",
        "outputId": "285c4d1f-8099-4788-ed9b-69d3044ebdcd",
        "colab": {
          "base_uri": "https://localhost:8080/",
          "height": 104
        }
      },
      "source": [
        "!pip install --quiet --upgrade tensorflow_federated\n",
        "%load_ext tensorboard"
      ],
      "execution_count": 0,
      "outputs": [
        {
          "output_type": "stream",
          "text": [
            "\u001b[?25l\r\u001b[K     |▊                               | 10kB 29.7MB/s eta 0:00:01\r\u001b[K     |█▌                              | 20kB 36.3MB/s eta 0:00:01\r\u001b[K     |██▏                             | 30kB 41.5MB/s eta 0:00:01\r\u001b[K     |███                             | 40kB 34.7MB/s eta 0:00:01\r\u001b[K     |███▋                            | 51kB 17.2MB/s eta 0:00:01\r\u001b[K     |████▍                           | 61kB 16.5MB/s eta 0:00:01\r\u001b[K     |█████                           | 71kB 14.5MB/s eta 0:00:01\r\u001b[K     |█████▉                          | 81kB 15.7MB/s eta 0:00:01\r\u001b[K     |██████▌                         | 92kB 14.0MB/s eta 0:00:01\r\u001b[K     |███████▎                        | 102kB 13.8MB/s eta 0:00:01\r\u001b[K     |████████                        | 112kB 13.8MB/s eta 0:00:01\r\u001b[K     |████████▊                       | 122kB 13.8MB/s eta 0:00:01\r\u001b[K     |█████████▍                      | 133kB 13.8MB/s eta 0:00:01\r\u001b[K     |██████████▏                     | 143kB 13.8MB/s eta 0:00:01\r\u001b[K     |██████████▉                     | 153kB 13.8MB/s eta 0:00:01\r\u001b[K     |███████████▋                    | 163kB 13.8MB/s eta 0:00:01\r\u001b[K     |████████████▎                   | 174kB 13.8MB/s eta 0:00:01\r\u001b[K     |█████████████                   | 184kB 13.8MB/s eta 0:00:01\r\u001b[K     |█████████████▊                  | 194kB 13.8MB/s eta 0:00:01\r\u001b[K     |██████████████▌                 | 204kB 13.8MB/s eta 0:00:01\r\u001b[K     |███████████████▏                | 215kB 13.8MB/s eta 0:00:01\r\u001b[K     |████████████████                | 225kB 13.8MB/s eta 0:00:01\r\u001b[K     |████████████████▋               | 235kB 13.8MB/s eta 0:00:01\r\u001b[K     |█████████████████▍              | 245kB 13.8MB/s eta 0:00:01\r\u001b[K     |██████████████████              | 256kB 13.8MB/s eta 0:00:01\r\u001b[K     |██████████████████▉             | 266kB 13.8MB/s eta 0:00:01\r\u001b[K     |███████████████████▌            | 276kB 13.8MB/s eta 0:00:01\r\u001b[K     |████████████████████▎           | 286kB 13.8MB/s eta 0:00:01\r\u001b[K     |█████████████████████           | 296kB 13.8MB/s eta 0:00:01\r\u001b[K     |█████████████████████▊          | 307kB 13.8MB/s eta 0:00:01\r\u001b[K     |██████████████████████▌         | 317kB 13.8MB/s eta 0:00:01\r\u001b[K     |███████████████████████▏        | 327kB 13.8MB/s eta 0:00:01\r\u001b[K     |████████████████████████        | 337kB 13.8MB/s eta 0:00:01\r\u001b[K     |████████████████████████▋       | 348kB 13.8MB/s eta 0:00:01\r\u001b[K     |█████████████████████████▍      | 358kB 13.8MB/s eta 0:00:01\r\u001b[K     |██████████████████████████      | 368kB 13.8MB/s eta 0:00:01\r\u001b[K     |██████████████████████████▉     | 378kB 13.8MB/s eta 0:00:01\r\u001b[K     |███████████████████████████▌    | 389kB 13.8MB/s eta 0:00:01\r\u001b[K     |████████████████████████████▎   | 399kB 13.8MB/s eta 0:00:01\r\u001b[K     |█████████████████████████████   | 409kB 13.8MB/s eta 0:00:01\r\u001b[K     |█████████████████████████████▊  | 419kB 13.8MB/s eta 0:00:01\r\u001b[K     |██████████████████████████████▍ | 430kB 13.8MB/s eta 0:00:01\r\u001b[K     |███████████████████████████████▏| 440kB 13.8MB/s eta 0:00:01\r\u001b[K     |███████████████████████████████▉| 450kB 13.8MB/s eta 0:00:01\r\u001b[K     |████████████████████████████████| 460kB 13.8MB/s \n",
            "\u001b[?25h\u001b[?25l\r\u001b[K     |███▉                            | 10kB 33.1MB/s eta 0:00:01\r\u001b[K     |███████▊                        | 20kB 40.5MB/s eta 0:00:01\r\u001b[K     |███████████▋                    | 30kB 47.5MB/s eta 0:00:01\r\u001b[K     |███████████████▌                | 40kB 50.1MB/s eta 0:00:01\r\u001b[K     |███████████████████▍            | 51kB 53.0MB/s eta 0:00:01\r\u001b[K     |███████████████████████▏        | 61kB 56.6MB/s eta 0:00:01\r\u001b[K     |███████████████████████████     | 71kB 57.4MB/s eta 0:00:01\r\u001b[K     |███████████████████████████████ | 81kB 59.0MB/s eta 0:00:01\r\u001b[K     |████████████████████████████████| 92kB 13.6MB/s \n",
            "\u001b[?25h\u001b[?25l\r\u001b[K     |█▏                              | 10kB 40.4MB/s eta 0:00:01\r\u001b[K     |██▎                             | 20kB 49.0MB/s eta 0:00:01\r\u001b[K     |███▍                            | 30kB 55.8MB/s eta 0:00:01\r\u001b[K     |████▌                           | 40kB 58.3MB/s eta 0:00:01\r\u001b[K     |█████▋                          | 51kB 60.9MB/s eta 0:00:01\r\u001b[K     |██████▊                         | 61kB 63.7MB/s eta 0:00:01\r\u001b[K     |███████▉                        | 71kB 60.5MB/s eta 0:00:01\r\u001b[K     |█████████                       | 81kB 61.2MB/s eta 0:00:01\r\u001b[K     |██████████                      | 92kB 62.4MB/s eta 0:00:01\r\u001b[K     |███████████▏                    | 102kB 59.0MB/s eta 0:00:01\r\u001b[K     |████████████▎                   | 112kB 59.0MB/s eta 0:00:01\r\u001b[K     |█████████████▍                  | 122kB 59.0MB/s eta 0:00:01\r\u001b[K     |██████████████▌                 | 133kB 59.0MB/s eta 0:00:01\r\u001b[K     |███████████████▋                | 143kB 59.0MB/s eta 0:00:01\r\u001b[K     |████████████████▊               | 153kB 59.0MB/s eta 0:00:01\r\u001b[K     |█████████████████▉              | 163kB 59.0MB/s eta 0:00:01\r\u001b[K     |███████████████████             | 174kB 59.0MB/s eta 0:00:01\r\u001b[K     |████████████████████            | 184kB 59.0MB/s eta 0:00:01\r\u001b[K     |█████████████████████▏          | 194kB 59.0MB/s eta 0:00:01\r\u001b[K     |██████████████████████▎         | 204kB 59.0MB/s eta 0:00:01\r\u001b[K     |███████████████████████▍        | 215kB 59.0MB/s eta 0:00:01\r\u001b[K     |████████████████████████▌       | 225kB 59.0MB/s eta 0:00:01\r\u001b[K     |█████████████████████████▋      | 235kB 59.0MB/s eta 0:00:01\r\u001b[K     |██████████████████████████▊     | 245kB 59.0MB/s eta 0:00:01\r\u001b[K     |███████████████████████████▉    | 256kB 59.0MB/s eta 0:00:01\r\u001b[K     |█████████████████████████████   | 266kB 59.0MB/s eta 0:00:01\r\u001b[K     |██████████████████████████████  | 276kB 59.0MB/s eta 0:00:01\r\u001b[K     |███████████████████████████████▏| 286kB 59.0MB/s eta 0:00:01\r\u001b[K     |████████████████████████████████| 296kB 59.0MB/s \n",
            "\u001b[K     |████████████████████████████████| 174kB 60.2MB/s \n",
            "\u001b[K     |████████████████████████████████| 1.0MB 43.4MB/s \n",
            "\u001b[?25h"
          ],
          "name": "stdout"
        }
      ]
    },
    {
      "cell_type": "code",
      "metadata": {
        "id": "ihdSUzB4EJRp",
        "colab_type": "code",
        "outputId": "ff8cfaf4-35f9-4e2c-b480-f220cb92e63a",
        "colab": {
          "base_uri": "https://localhost:8080/",
          "height": 34
        }
      },
      "source": [
        "import collections\n",
        "\n",
        "import numpy as np\n",
        "import tensorflow as tf\n",
        "import tensorflow_federated as tff\n",
        "\n",
        "tf.compat.v1.enable_v2_behavior()\n",
        "\n",
        "np.random.seed(0)\n",
        "\n",
        "tff.federated_computation(lambda: 'Hello, Federated World!')()"
      ],
      "execution_count": 0,
      "outputs": [
        {
          "output_type": "execute_result",
          "data": {
            "text/plain": [
              "b'Hello, Federated World!'"
            ]
          },
          "metadata": {
            "tags": []
          },
          "execution_count": 2
        }
      ]
    },
    {
      "cell_type": "code",
      "metadata": {
        "id": "voZ_X-InEQRc",
        "colab_type": "code",
        "outputId": "55ac4df4-da9a-41d4-b2eb-08a62437304a",
        "colab": {
          "base_uri": "https://localhost:8080/",
          "height": 106
        }
      },
      "source": [
        "emnist_train, emnist_test = tff.simulation.datasets.emnist.load_data()"
      ],
      "execution_count": 0,
      "outputs": [
        {
          "output_type": "stream",
          "text": [
            "Downloading data from https://storage.googleapis.com/tff-datasets-public/fed_emnist_digitsonly.tar.bz2\n",
            "97402880/97398400 [==============================] - 4s 0us/step\n"
          ],
          "name": "stdout"
        },
        {
          "output_type": "stream",
          "text": [
            "/usr/local/lib/python3.6/dist-packages/tensorflow_federated/python/simulation/hdf5_client_data.py:63: H5pyDeprecationWarning: dataset.value has been deprecated. Use dataset[()] instead.\n",
            "  collections.OrderedDict((name, ds.value) for name, ds in sorted(\n"
          ],
          "name": "stderr"
        }
      ]
    },
    {
      "cell_type": "code",
      "metadata": {
        "id": "wHFIB0KIQswF",
        "colab_type": "code",
        "colab": {}
      },
      "source": [
        "# emnist_train.element_type_structure"
      ],
      "execution_count": 0,
      "outputs": []
    },
    {
      "cell_type": "code",
      "metadata": {
        "id": "cuOqRHBtQygv",
        "colab_type": "code",
        "outputId": "e22c6b32-7323-4c1f-ac49-07d3ff484505",
        "colab": {
          "base_uri": "https://localhost:8080/",
          "height": 72
        }
      },
      "source": [
        "eg_dataset=emnist_train.create_tf_dataset_for_client(emnist_train.client_ids[0])"
      ],
      "execution_count": 0,
      "outputs": [
        {
          "output_type": "stream",
          "text": [
            "/usr/local/lib/python3.6/dist-packages/tensorflow_federated/python/simulation/hdf5_client_data.py:63: H5pyDeprecationWarning: dataset.value has been deprecated. Use dataset[()] instead.\n",
            "  collections.OrderedDict((name, ds.value) for name, ds in sorted(\n"
          ],
          "name": "stderr"
        }
      ]
    },
    {
      "cell_type": "code",
      "metadata": {
        "id": "2TG3XHClRO5K",
        "colab_type": "code",
        "colab": {}
      },
      "source": [
        "eg_element=next(iter(eg_dataset))"
      ],
      "execution_count": 0,
      "outputs": []
    },
    {
      "cell_type": "code",
      "metadata": {
        "id": "61KnPpDuRiRU",
        "colab_type": "code",
        "outputId": "27edecca-4251-451b-c995-6d894c9e0dd2",
        "colab": {
          "base_uri": "https://localhost:8080/",
          "height": 34
        }
      },
      "source": [
        "eg_element['label'].numpy()"
      ],
      "execution_count": 0,
      "outputs": [
        {
          "output_type": "execute_result",
          "data": {
            "text/plain": [
              "5"
            ]
          },
          "metadata": {
            "tags": []
          },
          "execution_count": 7
        }
      ]
    },
    {
      "cell_type": "code",
      "metadata": {
        "id": "VOWaxGTQRto9",
        "colab_type": "code",
        "outputId": "130001a4-4b34-4dba-bf66-66ba6a14ddb0",
        "colab": {
          "base_uri": "https://localhost:8080/",
          "height": 265
        }
      },
      "source": [
        "from matplotlib import pyplot as plt\n",
        "\n",
        "plt.imshow(eg_element['pixels'].numpy(), cmap='gray', aspect='equal')\n",
        "plt.grid(False)\n",
        "_ = plt.show()"
      ],
      "execution_count": 0,
      "outputs": [
        {
          "output_type": "display_data",
          "data": {
            "image/png": "[encoded data removed]",
            "text/plain": [
              "<Figure size 432x288 with 1 Axes>"
            ]
          },
          "metadata": {
            "tags": [],
            "needs_background": "light"
          }
        }
      ]
    },
    {
      "cell_type": "markdown",
      "metadata": {
        "id": "ORpJZkAGSBfu",
        "colab_type": "text"
      },
      "source": [
        "We have the dataset as a tf.data.Dataset, preprocessing can be accomplished using Dataset transformations."
      ]
    },
    {
      "cell_type": "code",
      "metadata": {
        "id": "3fotOIlhR3pY",
        "colab_type": "code",
        "colab": {}
      },
      "source": [
        "SHUFFLE_BUFFER = 50\n",
        "# This dataset fills a buffer with buffer_size elements, then randomly samples elements from this buffer, \n",
        "# replacing the selected elements with new elements. For perfect shuffling, a buffer size greater than or equal to the full size of the dataset is required.\n",
        "# For instance, if your dataset contains 10,000 elements but buffer_size is set to 1,000, \n",
        "# then shuffle will initially select a random element from only the first 1,000 elements in the buffer. \n",
        "# Once an element is selected, its space in the buffer is replaced by the next (i.e. 1,001-st) element, maintaining the 1,000 element buffer.\n",
        "\n",
        "PREFETCH_BUFFER = 50\n",
        "\n",
        "BATCH_SIZE = 25\n",
        "\n",
        "\n",
        "def preprocess(dataset):\n",
        "\n",
        "  def batch_format_fn(element):\n",
        "    return collections.OrderedDict(\n",
        "        x = tf.reshape(element['pixels'],[-1,784]),\n",
        "        y = tf.reshape(element['label'], [-1,1])\n",
        "    )\n",
        "\n",
        "  return dataset.shuffle(SHUFFLE_BUFFER).batch(BATCH_SIZE).map(batch_format_fn).prefetch(PREFETCH_BUFFER)\n",
        "\n",
        "# Prefetch: This allows later elements to be prepared while the current element is being processed. \n",
        "# This often improves latency and throughput, at the cost of using additional memory to store prefetched elements.\n"
      ],
      "execution_count": 0,
      "outputs": []
    },
    {
      "cell_type": "code",
      "metadata": {
        "id": "2gmH2thlXJKR",
        "colab_type": "code",
        "colab": {}
      },
      "source": [
        "preprocessed_eg_dataset = preprocess(eg_dataset)\n"
      ],
      "execution_count": 0,
      "outputs": []
    },
    {
      "cell_type": "code",
      "metadata": {
        "id": "N_t04weWXRS-",
        "colab_type": "code",
        "colab": {}
      },
      "source": [
        "sample_batch = tf.nest.map_structure(lambda x: x.numpy(),\n",
        "                                     next(iter(preprocessed_eg_dataset)))\n",
        "\n",
        "# sample_batch"
      ],
      "execution_count": 0,
      "outputs": []
    },
    {
      "cell_type": "code",
      "metadata": {
        "id": "47zK4SUPXZRH",
        "colab_type": "code",
        "colab": {}
      },
      "source": [
        "def make_federated_dataset(client_data, client_IDs):\n",
        "  return [\n",
        "          preprocess(client_data.create_tf_dataset_for_client(x)) for x in client_IDs\n",
        "  ]\n",
        "  "
      ],
      "execution_count": 0,
      "outputs": []
    },
    {
      "cell_type": "code",
      "metadata": {
        "id": "Ykm5LSV_cbno",
        "colab_type": "code",
        "colab": {}
      },
      "source": [
        ""
      ],
      "execution_count": 0,
      "outputs": []
    },
    {
      "cell_type": "code",
      "metadata": {
        "id": "LW0p8qXCZoyw",
        "colab_type": "code",
        "outputId": "6b6154e7-bcd4-453e-9895-eeaa84360ba9",
        "colab": {
          "base_uri": "https://localhost:8080/",
          "height": 106
        }
      },
      "source": [
        "NUM_CLIENTS = 50\n",
        "# import random  \n",
        "import random \n",
        "# from random import sample \n",
        "  \n",
        "sample_clients = random.sample(emnist_train.client_ids,NUM_CLIENTS)\n",
        "\n",
        "federated_train_data = make_federated_dataset(emnist_train, sample_clients)\n",
        "\n",
        "print('Number of client datasets: {l}'.format(l=len(federated_train_data)))\n",
        "print('First dataset: {d}'.format(d=federated_train_data[0]))"
      ],
      "execution_count": 0,
      "outputs": [
        {
          "output_type": "stream",
          "text": [
            "/usr/local/lib/python3.6/dist-packages/tensorflow_federated/python/simulation/hdf5_client_data.py:63: H5pyDeprecationWarning: dataset.value has been deprecated. Use dataset[()] instead.\n",
            "  collections.OrderedDict((name, ds.value) for name, ds in sorted(\n"
          ],
          "name": "stderr"
        },
        {
          "output_type": "stream",
          "text": [
            "Number of client datasets: 50\n",
            "First dataset: <PrefetchDataset shapes: OrderedDict([(x, (None, 784)), (y, (None, 1))]), types: OrderedDict([(x, tf.float32), (y, tf.int32)])>\n"
          ],
          "name": "stdout"
        }
      ]
    },
    {
      "cell_type": "code",
      "metadata": {
        "id": "ODL4I4U9wSLZ",
        "colab_type": "code",
        "colab": {}
      },
      "source": [
        "# def create_keras_model():\n",
        "#   return tf.keras.models.Sequential([\n",
        "#       tf.keras.layers.Input(shape=(784,)),\n",
        "#       tf.keras.layers.Dense(10, kernel_initializer='zeros'),\n",
        "#       tf.keras.layers.Softmax(),\n",
        "#   ])\n",
        "\n",
        "# def model_fn():\n",
        "#   keras_model = create_keras_model()\n",
        "#   return tff.learning.from_keras_model(\n",
        "#       keras_model,\n",
        "#       input_spec=preprocessed_eg_dataset.element_spec,\n",
        "#       loss=tf.keras.losses.SparseCategoricalCrossentropy(),\n",
        "#       metrics=[tf.keras.metrics.SparseCategoricalAccuracy()])"
      ],
      "execution_count": 0,
      "outputs": []
    },
    {
      "cell_type": "code",
      "metadata": {
        "id": "WisTF3IEzQqT",
        "colab_type": "code",
        "colab": {}
      },
      "source": [
        "# iterative_process = tff.learning.build_federated_averaging_process(\n",
        "#     model_fn,\n",
        "#     client_optimizer_fn=lambda: tf.keras.optimizers.SGD(learning_rate=0.01),\n",
        "#     server_optimizer_fn=lambda: tf.keras.optimizers.SGD(learning_rate=0.8))\n",
        "\n",
        "# state = iterative_process.initialize()\n",
        "# NUM_ROUNDS = 50\n",
        "\n",
        "# for round_num in range(1, NUM_ROUNDS):\n",
        "#   state, metrics = iterative_process.next(state, federated_train_data)\n",
        "#   print('round {:2d}, metrics={}'.format(round_num, metrics))\n"
      ],
      "execution_count": 0,
      "outputs": []
    },
    {
      "cell_type": "code",
      "metadata": {
        "id": "8Oxh4jQ2kjGt",
        "colab_type": "code",
        "outputId": "2f2d0a6a-eda7-4af1-851e-6d61771ccf70",
        "colab": {
          "base_uri": "https://localhost:8080/",
          "height": 141
        }
      },
      "source": [
        "def create_keras_model():\n",
        "  temp_model = tf.keras.models.Sequential()\n",
        "  temp_model.add(tf.keras.layers.Reshape((28, 28,1), input_shape=(784,)))\n",
        "  temp_model.add(tf.keras.layers.Conv2D(24,kernel_size=5,padding='same',activation='relu',\n",
        "            input_shape=(28,28,1)))\n",
        "  temp_model.add(tf.keras.layers.MaxPool2D())\n",
        "  temp_model.add(tf.keras.layers.Conv2D(48,kernel_size=5,padding='same',activation='relu'))\n",
        "  temp_model.add(tf.keras.layers.MaxPool2D())\n",
        "  temp_model.add(tf.keras.layers.Flatten())\n",
        "  temp_model.add(tf.keras.layers.Dense(256, activation='relu'))\n",
        "  temp_model.add(tf.keras.layers.Dense(10, activation='softmax'))\n",
        "  # model[j].compile(optimizer=\"adam\", loss=\"categorical_crossentropy\", metrics=[\"accuracy\"])\n",
        "  # return tf.keras.models.Sequential([\n",
        "  #     tf.keras.layers.Input(shape=(784,)),\n",
        "  #     tf.keras.layers.Dense(10, kernel_initializer='zeros'),\n",
        "  #     tf.keras.layers.Softmax(),\n",
        "  # ])\n",
        "  return temp_model\n",
        "\n",
        "def model_fn():\n",
        "  keras_model = create_keras_model()\n",
        "  return tff.learning.from_keras_model(\n",
        "      keras_model,\n",
        "      input_spec=preprocessed_eg_dataset.element_spec,\n",
        "      loss=tf.keras.losses.SparseCategoricalCrossentropy(),\n",
        "      metrics=[tf.keras.metrics.SparseCategoricalAccuracy()])\n",
        "\n",
        "iterative_process = tff.learning.build_federated_averaging_process(\n",
        "    model_fn,\n",
        "    client_optimizer_fn=lambda: tf.keras.optimizers.Adam(learning_rate=0.001),\n",
        "    server_optimizer_fn=lambda: tf.keras.optimizers.SGD(learning_rate=1.0))\n",
        "\n",
        "state = iterative_process.initialize()\n",
        "NUM_ROUNDS = 50\n"
      ],
      "execution_count": 0,
      "outputs": [
        {
          "output_type": "stream",
          "text": [
            "WARNING:tensorflow:From /usr/local/lib/python3.6/dist-packages/tensorflow/python/ops/resource_variable_ops.py:1666: calling BaseResourceVariable.__init__ (from tensorflow.python.ops.resource_variable_ops) with constraint is deprecated and will be removed in a future version.\n",
            "Instructions for updating:\n",
            "If using Keras pass *_constraint arguments to layers.\n"
          ],
          "name": "stdout"
        },
        {
          "output_type": "stream",
          "text": [
            "WARNING:tensorflow:From /usr/local/lib/python3.6/dist-packages/tensorflow/python/ops/resource_variable_ops.py:1666: calling BaseResourceVariable.__init__ (from tensorflow.python.ops.resource_variable_ops) with constraint is deprecated and will be removed in a future version.\n",
            "Instructions for updating:\n",
            "If using Keras pass *_constraint arguments to layers.\n"
          ],
          "name": "stderr"
        }
      ]
    },
    {
      "cell_type": "code",
      "metadata": {
        "id": "nc4Z3vZUWQkj",
        "colab_type": "code",
        "colab": {}
      },
      "source": [
        "import time\n"
      ],
      "execution_count": 0,
      "outputs": []
    },
    {
      "cell_type": "code",
      "metadata": {
        "id": "KsKVTAa2pDeg",
        "colab_type": "code",
        "outputId": "7ff75978-64ac-4610-96ea-5e9f142bb7bc",
        "colab": {
          "base_uri": "https://localhost:8080/",
          "height": 1000
        }
      },
      "source": [
        "for round_num in range(1, NUM_ROUNDS):\n",
        "  start_time = time.time()\n",
        "  state, metrics = iterative_process.next(state, federated_train_data)\n",
        "  end_time = time.time()\n",
        "  print('round {:2d}, metrics={}'.format(round_num, metrics))\n",
        "  print('time taken is {:2f}'.format(end_time-start_time))\n"
      ],
      "execution_count": 0,
      "outputs": [
        {
          "output_type": "stream",
          "text": [
            "ERROR:asyncio:Task was destroyed but it is pending!\n",
            "task: <Task pending coro=<trace.<locals>.async_trace() running at /usr/local/lib/python3.6/dist-packages/tensorflow_federated/python/common_libs/tracing.py:201> wait_for=<Future pending cb=[_chain_future.<locals>._call_check_cancel() at /usr/lib/python3.6/asyncio/futures.py:403, <TaskWakeupMethWrapper object at 0x7f3b3c7d0ca8>()]> cb=[<TaskWakeupMethWrapper object at 0x7f3b46154a98>()]>\n",
            "ERROR:asyncio:Task was destroyed but it is pending!\n",
            "task: <Task pending coro=<trace.<locals>.async_trace() running at /usr/local/lib/python3.6/dist-packages/tensorflow_federated/python/common_libs/tracing.py:201> wait_for=<Future pending cb=[_chain_future.<locals>._call_check_cancel() at /usr/lib/python3.6/asyncio/futures.py:403, <TaskWakeupMethWrapper object at 0x7f3b47c15fd8>()]> cb=[<TaskWakeupMethWrapper object at 0x7f3b46154588>()]>\n",
            "ERROR:asyncio:Task was destroyed but it is pending!\n",
            "task: <Task pending coro=<trace.<locals>.async_trace() running at /usr/local/lib/python3.6/dist-packages/tensorflow_federated/python/common_libs/tracing.py:201> wait_for=<Future pending cb=[_chain_future.<locals>._call_check_cancel() at /usr/lib/python3.6/asyncio/futures.py:403, <TaskWakeupMethWrapper object at 0x7f3b47d402b8>()]> cb=[<TaskWakeupMethWrapper object at 0x7f3b47bfd2b8>()]>\n"
          ],
          "name": "stderr"
        },
        {
          "output_type": "stream",
          "text": [
            "round  1, metrics=<sparse_categorical_accuracy=0.15271514654159546,loss=2.3034651279449463>\n",
            "time taken is 20.362383\n",
            "round  2, metrics=<sparse_categorical_accuracy=0.1782003492116928,loss=2.2943296432495117>\n",
            "time taken is 19.826073\n",
            "round  3, metrics=<sparse_categorical_accuracy=0.23544402420520782,loss=2.28218150138855>\n",
            "time taken is 20.473526\n",
            "round  4, metrics=<sparse_categorical_accuracy=0.2448539435863495,loss=2.258678436279297>\n",
            "time taken is 19.746307\n",
            "round  5, metrics=<sparse_categorical_accuracy=0.2905312776565552,loss=2.224811315536499>\n",
            "time taken is 20.480636\n",
            "round  6, metrics=<sparse_categorical_accuracy=0.3432660400867462,loss=2.1768455505371094>\n",
            "time taken is 20.885739\n",
            "round  7, metrics=<sparse_categorical_accuracy=0.38482651114463806,loss=2.1103954315185547>\n",
            "time taken is 21.092929\n",
            "round  8, metrics=<sparse_categorical_accuracy=0.3914918601512909,loss=2.0333805084228516>\n",
            "time taken is 19.575537\n",
            "round  9, metrics=<sparse_categorical_accuracy=0.46010586619377136,loss=1.929972529411316>\n",
            "time taken is 20.051359\n",
            "round 10, metrics=<sparse_categorical_accuracy=0.4787296652793884,loss=1.8148303031921387>\n",
            "time taken is 20.207792\n",
            "round 11, metrics=<sparse_categorical_accuracy=0.5275436043739319,loss=1.6927015781402588>\n",
            "time taken is 20.785412\n",
            "round 12, metrics=<sparse_categorical_accuracy=0.5591060519218445,loss=1.574101448059082>\n",
            "time taken is 21.022075\n",
            "round 13, metrics=<sparse_categorical_accuracy=0.5767496824264526,loss=1.4583288431167603>\n",
            "time taken is 19.844236\n",
            "round 14, metrics=<sparse_categorical_accuracy=0.6206626296043396,loss=1.3386152982711792>\n",
            "time taken is 20.654642\n",
            "round 15, metrics=<sparse_categorical_accuracy=0.644383430480957,loss=1.241891860961914>\n",
            "time taken is 20.450002\n",
            "round 16, metrics=<sparse_categorical_accuracy=0.6688884496688843,loss=1.1471939086914062>\n",
            "time taken is 20.609417\n",
            "round 17, metrics=<sparse_categorical_accuracy=0.679278552532196,loss=1.0817822217941284>\n",
            "time taken is 20.106282\n",
            "round 18, metrics=<sparse_categorical_accuracy=0.7041756510734558,loss=1.0043758153915405>\n",
            "time taken is 19.965500\n",
            "round 19, metrics=<sparse_categorical_accuracy=0.7214271426200867,loss=0.9339682459831238>\n",
            "time taken is 20.722739\n",
            "round 20, metrics=<sparse_categorical_accuracy=0.727112352848053,loss=0.8958345055580139>\n",
            "time taken is 20.046041\n",
            "round 21, metrics=<sparse_categorical_accuracy=0.7445598840713501,loss=0.8366384506225586>\n",
            "time taken is 20.300549\n",
            "round 22, metrics=<sparse_categorical_accuracy=0.7518133521080017,loss=0.7954491972923279>\n",
            "time taken is 20.977133\n",
            "round 23, metrics=<sparse_categorical_accuracy=0.777886688709259,loss=0.7443987727165222>\n",
            "time taken is 20.639853\n",
            "round 24, metrics=<sparse_categorical_accuracy=0.7808272838592529,loss=0.7113295197486877>\n",
            "time taken is 19.909367\n",
            "round 25, metrics=<sparse_categorical_accuracy=0.7902371883392334,loss=0.6729414463043213>\n",
            "time taken is 20.639391\n",
            "round 26, metrics=<sparse_categorical_accuracy=0.7990590333938599,loss=0.6475653052330017>\n",
            "time taken is 20.618853\n",
            "round 27, metrics=<sparse_categorical_accuracy=0.8118016123771667,loss=0.617941677570343>\n",
            "time taken is 21.152876\n",
            "round 28, metrics=<sparse_categorical_accuracy=0.8033719062805176,loss=0.6101531386375427>\n",
            "time taken is 19.891491\n",
            "round 29, metrics=<sparse_categorical_accuracy=0.8096451759338379,loss=0.5967113375663757>\n",
            "time taken is 20.416511\n",
            "round 30, metrics=<sparse_categorical_accuracy=0.8306214213371277,loss=0.5396721363067627>\n",
            "time taken is 20.337831\n",
            "round 31, metrics=<sparse_categorical_accuracy=0.831601619720459,loss=0.5385817289352417>\n",
            "time taken is 20.664830\n",
            "round 32, metrics=<sparse_categorical_accuracy=0.8284649848937988,loss=0.5293096303939819>\n",
            "time taken is 20.688914\n",
            "round 33, metrics=<sparse_categorical_accuracy=0.8453244566917419,loss=0.4988630414009094>\n",
            "time taken is 20.709213\n",
            "round 34, metrics=<sparse_categorical_accuracy=0.8486571311950684,loss=0.4785204529762268>\n",
            "time taken is 20.522065\n",
            "round 35, metrics=<sparse_categorical_accuracy=0.8466967344284058,loss=0.47724199295043945>\n",
            "time taken is 20.759063\n",
            "round 36, metrics=<sparse_categorical_accuracy=0.8576749563217163,loss=0.4587726294994354>\n",
            "time taken is 20.732011\n",
            "round 37, metrics=<sparse_categorical_accuracy=0.8578709959983826,loss=0.45274001359939575>\n",
            "time taken is 20.643529\n",
            "round 38, metrics=<sparse_categorical_accuracy=0.8708096742630005,loss=0.4262421131134033>\n",
            "time taken is 20.478359\n",
            "round 39, metrics=<sparse_categorical_accuracy=0.8686531782150269,loss=0.4232175052165985>\n",
            "time taken is 20.955086\n",
            "round 40, metrics=<sparse_categorical_accuracy=0.8737502694129944,loss=0.4144980311393738>\n",
            "time taken is 21.106576\n",
            "round 41, metrics=<sparse_categorical_accuracy=0.8666927814483643,loss=0.4108946621417999>\n",
            "time taken is 21.214494\n",
            "round 42, metrics=<sparse_categorical_accuracy=0.8717898726463318,loss=0.40141627192497253>\n",
            "time taken is 21.712078\n",
            "round 43, metrics=<sparse_categorical_accuracy=0.8774750232696533,loss=0.3902481496334076>\n",
            "time taken is 20.702729\n",
            "round 44, metrics=<sparse_categorical_accuracy=0.8837482929229736,loss=0.37898656725883484>\n",
            "time taken is 21.236867\n",
            "round 45, metrics=<sparse_categorical_accuracy=0.8808076977729797,loss=0.3764740228652954>\n",
            "time taken is 21.368863\n",
            "round 46, metrics=<sparse_categorical_accuracy=0.8890413641929626,loss=0.35528564453125>\n",
            "time taken is 21.590700\n",
            "round 47, metrics=<sparse_categorical_accuracy=0.88551265001297,loss=0.35469475388526917>\n",
            "time taken is 21.595978\n",
            "round 48, metrics=<sparse_categorical_accuracy=0.8959027528762817,loss=0.3390459418296814>\n",
            "time taken is 21.379398\n",
            "round 49, metrics=<sparse_categorical_accuracy=0.8949225544929504,loss=0.3400438725948334>\n",
            "time taken is 21.799754\n"
          ],
          "name": "stdout"
        }
      ]
    },
    {
      "cell_type": "code",
      "metadata": {
        "id": "iDMP9WxkUX8k",
        "colab_type": "code",
        "outputId": "8ae53164-ec7d-4fa9-d79a-7523ec24af5a",
        "colab": {
          "base_uri": "https://localhost:8080/",
          "height": 34
        }
      },
      "source": [
        "evaluation = tff.learning.build_federated_evaluation(model_fn)\n",
        "train_metrics = evaluation(state.model, federated_train_data)\n",
        "print(str(train_metrics))\n"
      ],
      "execution_count": 0,
      "outputs": [
        {
          "output_type": "stream",
          "text": [
            "<sparse_categorical_accuracy=0.890021562576294,loss=0.3539394736289978>\n"
          ],
          "name": "stdout"
        }
      ]
    },
    {
      "cell_type": "code",
      "metadata": {
        "id": "Io2cETKLcQJo",
        "colab_type": "code",
        "outputId": "272af8bf-ea76-4ae4-8a7c-d8161279c9f4",
        "colab": {
          "base_uri": "https://localhost:8080/",
          "height": 106
        }
      },
      "source": [
        "NUM_CLIENTS = 500\n",
        "  \n",
        "sample_clients = random.sample(emnist_train.client_ids,NUM_CLIENTS)\n",
        "\n",
        "federated_test_data = make_federated_dataset(emnist_train, sample_clients)\n",
        "print(\"Dataset made\")\n",
        "test_metrics = evaluation(state.model, federated_test_data)\n",
        "print(str(test_metrics))\n"
      ],
      "execution_count": 0,
      "outputs": [
        {
          "output_type": "stream",
          "text": [
            "/usr/local/lib/python3.6/dist-packages/tensorflow_federated/python/simulation/hdf5_client_data.py:63: H5pyDeprecationWarning: dataset.value has been deprecated. Use dataset[()] instead.\n",
            "  collections.OrderedDict((name, ds.value) for name, ds in sorted(\n"
          ],
          "name": "stderr"
        },
        {
          "output_type": "stream",
          "text": [
            "Dataset made\n",
            "<sparse_categorical_accuracy=0.8923344612121582,loss=0.35415440797805786>\n"
          ],
          "name": "stdout"
        }
      ]
    },
    {
      "cell_type": "code",
      "metadata": {
        "id": "Ihef02PZcl_F",
        "colab_type": "code",
        "outputId": "69fae68b-dcd9-4175-c27c-3cbe1d4442e1",
        "colab": {
          "base_uri": "https://localhost:8080/",
          "height": 141
        }
      },
      "source": [
        "NUM_CLIENTS = 1500\n",
        "start_time=time.time()  \n",
        "sample_clients = random.sample(emnist_train.client_ids,NUM_CLIENTS)\n",
        "federated_test_data = make_federated_dataset(emnist_train, sample_clients)\n",
        "print(\"Dataset made\")\n",
        "end_time=time.time()\n",
        "print('time taken is {:2f}'.format(end_time-start_time))\n",
        "\n",
        "start_time=time.time()\n",
        "test_metrics = evaluation(state.model, federated_test_data)\n",
        "print(str(test_metrics))\n",
        "end_time=time.time()\n",
        "print('time taken is {:2f}'.format(end_time-start_time))\n"
      ],
      "execution_count": 0,
      "outputs": [
        {
          "output_type": "stream",
          "text": [
            "/usr/local/lib/python3.6/dist-packages/tensorflow_federated/python/simulation/hdf5_client_data.py:63: H5pyDeprecationWarning: dataset.value has been deprecated. Use dataset[()] instead.\n",
            "  collections.OrderedDict((name, ds.value) for name, ds in sorted(\n"
          ],
          "name": "stderr"
        },
        {
          "output_type": "stream",
          "text": [
            "Dataset made\n",
            "time taken is 15.659230\n",
            "<sparse_categorical_accuracy=0.9007932543754578,loss=0.3310299515724182>\n",
            "time taken is 287.057438\n"
          ],
          "name": "stdout"
        }
      ]
    },
    {
      "cell_type": "code",
      "metadata": {
        "id": "c_Ukt0gTdNuY",
        "colab_type": "code",
        "outputId": "c3f6cd23-1f72-484c-d192-de3a0d6358d4",
        "colab": {
          "base_uri": "https://localhost:8080/",
          "height": 72
        }
      },
      "source": [
        "NUM_CLIENTS = 50\n",
        "sample_clients = random.sample(emnist_train.client_ids,NUM_CLIENTS)\n",
        "federated_train_data = make_federated_dataset(emnist_train, sample_clients)\n"
      ],
      "execution_count": 0,
      "outputs": [
        {
          "output_type": "stream",
          "text": [
            "/usr/local/lib/python3.6/dist-packages/tensorflow_federated/python/simulation/hdf5_client_data.py:63: H5pyDeprecationWarning: dataset.value has been deprecated. Use dataset[()] instead.\n",
            "  collections.OrderedDict((name, ds.value) for name, ds in sorted(\n"
          ],
          "name": "stderr"
        }
      ]
    },
    {
      "cell_type": "code",
      "metadata": {
        "id": "il5rKg7ThCp3",
        "colab_type": "code",
        "outputId": "ee991f20-eabe-43b3-a801-a48ec3380275",
        "colab": {
          "base_uri": "https://localhost:8080/",
          "height": 1000
        }
      },
      "source": [
        "for round_num in range(1, NUM_ROUNDS):\n",
        "  start_time = time.time()\n",
        "  state, metrics = iterative_process.next(state, federated_train_data)\n",
        "  end_time = time.time()\n",
        "  print('round {:2d}, metrics={}'.format(round_num, metrics))\n",
        "  print('time taken is {:2f}'.format(end_time-start_time))\n"
      ],
      "execution_count": 0,
      "outputs": [
        {
          "output_type": "stream",
          "text": [
            "round  1, metrics=<sparse_categorical_accuracy=0.8963065147399902,loss=0.3203691244125366>\n",
            "time taken is 23.944885\n",
            "round  2, metrics=<sparse_categorical_accuracy=0.9063796401023865,loss=0.3077973425388336>\n",
            "time taken is 22.136114\n",
            "round  3, metrics=<sparse_categorical_accuracy=0.9040094614028931,loss=0.3018355667591095>\n",
            "time taken is 23.512446\n",
            "round  4, metrics=<sparse_categorical_accuracy=0.9044045209884644,loss=0.2884303331375122>\n",
            "time taken is 21.378818\n",
            "round  5, metrics=<sparse_categorical_accuracy=0.9101323485374451,loss=0.2837064862251282>\n",
            "time taken is 23.921563\n",
            "round  6, metrics=<sparse_categorical_accuracy=0.9123049378395081,loss=0.2737898528575897>\n",
            "time taken is 21.850335\n",
            "round  7, metrics=<sparse_categorical_accuracy=0.9156626462936401,loss=0.2638072371482849>\n",
            "time taken is 23.492902\n",
            "round  8, metrics=<sparse_categorical_accuracy=0.9134899973869324,loss=0.26820266246795654>\n",
            "time taken is 22.554813\n",
            "round  9, metrics=<sparse_categorical_accuracy=0.9194153547286987,loss=0.25815966725349426>\n",
            "time taken is 24.182692\n",
            "round 10, metrics=<sparse_categorical_accuracy=0.9204029440879822,loss=0.2556034326553345>\n",
            "time taken is 22.044317\n",
            "round 11, metrics=<sparse_categorical_accuracy=0.9184278249740601,loss=0.25644367933273315>\n",
            "time taken is 23.806636\n",
            "round 12, metrics=<sparse_categorical_accuracy=0.9200078845024109,loss=0.2424430251121521>\n",
            "time taken is 22.156757\n",
            "round 13, metrics=<sparse_categorical_accuracy=0.9227730631828308,loss=0.2522290050983429>\n",
            "time taken is 23.677322\n",
            "round 14, metrics=<sparse_categorical_accuracy=0.9277108311653137,loss=0.22927047312259674>\n",
            "time taken is 21.693419\n",
            "round 15, metrics=<sparse_categorical_accuracy=0.9237605929374695,loss=0.235467791557312>\n",
            "time taken is 23.297497\n",
            "round 16, metrics=<sparse_categorical_accuracy=0.9296859502792358,loss=0.22332844138145447>\n",
            "time taken is 22.173022\n",
            "round 17, metrics=<sparse_categorical_accuracy=0.9283033609390259,loss=0.21878226101398468>\n",
            "time taken is 23.468135\n",
            "round 18, metrics=<sparse_categorical_accuracy=0.9336361885070801,loss=0.21218398213386536>\n",
            "time taken is 21.938247\n",
            "round 19, metrics=<sparse_categorical_accuracy=0.9342287182807922,loss=0.2128978818655014>\n",
            "time taken is 23.906074\n",
            "round 20, metrics=<sparse_categorical_accuracy=0.9332411885261536,loss=0.20871810615062714>\n",
            "time taken is 22.062029\n",
            "round 21, metrics=<sparse_categorical_accuracy=0.9328461289405823,loss=0.21428824961185455>\n",
            "time taken is 22.010338\n",
            "round 22, metrics=<sparse_categorical_accuracy=0.9336361885070801,loss=0.20955130457878113>\n",
            "time taken is 24.106794\n",
            "round 23, metrics=<sparse_categorical_accuracy=0.9348212480545044,loss=0.20637904107570648>\n",
            "time taken is 22.118625\n",
            "round 24, metrics=<sparse_categorical_accuracy=0.9326485991477966,loss=0.19825319945812225>\n",
            "time taken is 23.640110\n",
            "round 25, metrics=<sparse_categorical_accuracy=0.9403515458106995,loss=0.19793957471847534>\n",
            "time taken is 22.199541\n",
            "round 26, metrics=<sparse_categorical_accuracy=0.9389690160751343,loss=0.1950485110282898>\n",
            "time taken is 24.154622\n",
            "round 27, metrics=<sparse_categorical_accuracy=0.9405490756034851,loss=0.1860256791114807>\n",
            "time taken is 21.908886\n",
            "round 28, metrics=<sparse_categorical_accuracy=0.9383764863014221,loss=0.19116146862506866>\n",
            "time taken is 24.176748\n",
            "round 29, metrics=<sparse_categorical_accuracy=0.9411416053771973,loss=0.18446196615695953>\n",
            "time taken is 22.326226\n",
            "round 30, metrics=<sparse_categorical_accuracy=0.9405490756034851,loss=0.19005456566810608>\n",
            "time taken is 23.816325\n",
            "round 31, metrics=<sparse_categorical_accuracy=0.943314254283905,loss=0.17700910568237305>\n",
            "time taken is 22.293006\n",
            "round 32, metrics=<sparse_categorical_accuracy=0.9439067840576172,loss=0.17658351361751556>\n",
            "time taken is 24.128521\n",
            "round 33, metrics=<sparse_categorical_accuracy=0.943314254283905,loss=0.1794382482767105>\n",
            "time taken is 22.567117\n",
            "round 34, metrics=<sparse_categorical_accuracy=0.9417341351509094,loss=0.18182381987571716>\n",
            "time taken is 24.205632\n",
            "round 35, metrics=<sparse_categorical_accuracy=0.9437092542648315,loss=0.17493928968906403>\n",
            "time taken is 22.434873\n",
            "round 36, metrics=<sparse_categorical_accuracy=0.946869432926178,loss=0.1716354936361313>\n",
            "time taken is 23.994303\n",
            "round 37, metrics=<sparse_categorical_accuracy=0.9476594924926758,loss=0.16593724489212036>\n",
            "time taken is 22.720648\n",
            "round 38, metrics=<sparse_categorical_accuracy=0.9450918436050415,loss=0.1752806454896927>\n",
            "time taken is 24.470625\n",
            "round 39, metrics=<sparse_categorical_accuracy=0.9484495520591736,loss=0.16354352235794067>\n",
            "time taken is 22.084610\n",
            "round 40, metrics=<sparse_categorical_accuracy=0.9478570222854614,loss=0.17309150099754333>\n",
            "time taken is 24.079609\n",
            "round 41, metrics=<sparse_categorical_accuracy=0.945486843585968,loss=0.1658523827791214>\n",
            "time taken is 21.609389\n",
            "round 42, metrics=<sparse_categorical_accuracy=0.9492395520210266,loss=0.16249845921993256>\n",
            "time taken is 24.137440\n",
            "round 43, metrics=<sparse_categorical_accuracy=0.9535848498344421,loss=0.15279021859169006>\n",
            "time taken is 21.825796\n",
            "round 44, metrics=<sparse_categorical_accuracy=0.9514122009277344,loss=0.16026124358177185>\n",
            "time taken is 24.451361\n",
            "round 45, metrics=<sparse_categorical_accuracy=0.9510172009468079,loss=0.15859770774841309>\n",
            "time taken is 22.403848\n",
            "round 46, metrics=<sparse_categorical_accuracy=0.9502271413803101,loss=0.15444457530975342>\n",
            "time taken is 24.158566\n",
            "round 47, metrics=<sparse_categorical_accuracy=0.9508196711540222,loss=0.15011803805828094>\n",
            "time taken is 22.530920\n",
            "round 48, metrics=<sparse_categorical_accuracy=0.9510172009468079,loss=0.14958898723125458>\n",
            "time taken is 24.759275\n",
            "round 49, metrics=<sparse_categorical_accuracy=0.9525972604751587,loss=0.14512012898921967>\n",
            "time taken is 22.897127\n"
          ],
          "name": "stdout"
        }
      ]
    },
    {
      "cell_type": "code",
      "metadata": {
        "id": "NLAfmjY7hLDT",
        "colab_type": "code",
        "outputId": "571cca0a-02c0-4e5b-892e-b9f4b94a8b7a",
        "colab": {
          "base_uri": "https://localhost:8080/",
          "height": 141
        }
      },
      "source": [
        "NUM_CLIENTS = 1500\n",
        "start_time=time.time()  \n",
        "sample_clients = random.sample(emnist_train.client_ids,NUM_CLIENTS)\n",
        "federated_test_data = make_federated_dataset(emnist_train, sample_clients)\n",
        "print(\"Dataset made\")\n",
        "end_time=time.time()\n",
        "print('time taken is {:2f}'.format(end_time-start_time))\n",
        "\n",
        "start_time=time.time()\n",
        "test_metrics = evaluation(state.model, federated_test_data)\n",
        "print(str(test_metrics))\n",
        "end_time=time.time()\n",
        "print('time taken is {:2f}'.format(end_time-start_time))\n"
      ],
      "execution_count": 0,
      "outputs": [
        {
          "output_type": "stream",
          "text": [
            "/usr/local/lib/python3.6/dist-packages/tensorflow_federated/python/simulation/hdf5_client_data.py:63: H5pyDeprecationWarning: dataset.value has been deprecated. Use dataset[()] instead.\n",
            "  collections.OrderedDict((name, ds.value) for name, ds in sorted(\n"
          ],
          "name": "stderr"
        },
        {
          "output_type": "stream",
          "text": [
            "Dataset made\n",
            "time taken is 17.764248\n",
            "<sparse_categorical_accuracy=0.9377539753913879,loss=0.2262464463710785>\n",
            "time taken is 218.724236\n"
          ],
          "name": "stdout"
        }
      ]
    },
    {
      "cell_type": "code",
      "metadata": {
        "id": "EDvYCRh2rPYS",
        "colab_type": "code",
        "colab": {}
      },
      "source": [
        ""
      ],
      "execution_count": 0,
      "outputs": []
    }
  ]
}